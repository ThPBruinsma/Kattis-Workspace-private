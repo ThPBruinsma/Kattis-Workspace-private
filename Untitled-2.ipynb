{
 "cells": [
  {
   "cell_type": "code",
   "execution_count": 2,
   "metadata": {},
   "outputs": [
    {
     "name": "stdout",
     "output_type": "stream",
     "text": [
      "3\n",
      "2\n",
      "1\n"
     ]
    }
   ],
   "source": [
    "#import sys\n",
    "\n",
    "data = [3, 1, 2, 3]\n",
    "\n",
    "#for line in sys.stdin:\n",
    "#    data.append(int(line.strip()))\n",
    "\n",
    "index_count = data[0]\n",
    "\n",
    "for x in range(index_count):\n",
    "    print(data[index_count - x])\n",
    "\n"
   ]
  },
  {
   "cell_type": "code",
   "execution_count": 1,
   "metadata": {},
   "outputs": [],
   "source": [
    "import sys\n",
    " \n",
    "for line in sys.stdin:\n",
    "    data = line\n",
    "    print(data)\n",
    "\n",
    "#data = \".pooop......\"\n",
    "\n",
    "journey = data.replace(\".\", \"\")\n",
    "encounter = 0\n",
    "backpack = []\n",
    "\n",
    "nMoney = 0\n",
    "nGold = 0\n",
    "nJewel = 0\n",
    "\n",
    "print(journey)\n",
    "\n",
    "# Move Oli from left to right journey[index] contains current encounter\n",
    "for index in range(len(journey)):\n",
    "    print(index)\n",
    "    encounter = journey[index]\n",
    "\n",
    "    # If item, add to backpack\n",
    "    if encounter.islower() == True:\n",
    "        print(\"New item encountered\")\n",
    "        backpack.append(encounter)\n",
    "        print(\"Backpack: \", backpack)\n",
    "        \n",
    "    # If item is integer, exit with error\n",
    "    elif type(encounter) is int:\n",
    "        exit(1)\n",
    "\n",
    "    # If bandit, search backpack\n",
    "    else:\n",
    "        print(\"Bandit encountered!\")\n",
    "        requestedItem = encounter.lower()\n",
    "\n",
    "        # If backpack contains item, remove items until required one is on top\n",
    "        if requestedItem in backpack:\n",
    "            print(\"Oli has item!\")\n",
    "\n",
    "            backpackSize = len(backpack) - 1\n",
    "\n",
    "            # Create list with all indices of the requested item in the backpack\n",
    "            indicesRequest = [indexBackpack for indexBackpack, valueItem in enumerate(backpack) if valueItem == requestedItem]\n",
    "            print(\"Requested item: \", requestedItem, \"Indices: \", indicesRequest, \"Backpack size\", backpackSize)\n",
    "\n",
    "            if indicesRequest[-1] < backpackSize:\n",
    "                backpack = backpack[0:indicesRequest[-1]]\n",
    "            \n",
    "            else:\n",
    "                backpack = backpack[0:-1]\n",
    "\n",
    "            print(\"Backpack: \", backpack)\n",
    "\n",
    "        # If backpack does not contain item, print \"Neibb\"\n",
    "        else:\n",
    "            print(\"Neibb\")\n",
    "            exit()\n",
    "\n",
    "# If Oli reached the end of input, print backpack\n",
    "nMoney = backpack.count(\"p\")\n",
    "nGold = backpack.count(\"g\")\n",
    "nJewel = backpack.count(\"o\")\n",
    "\n",
    "output = print(nMoney, \"\\n\", nGold, \"\\n\", nJewel, sep = \"\")"
   ]
  },
  {
   "cell_type": "code",
   "execution_count": 21,
   "metadata": {},
   "outputs": [
    {
     "name": "stdout",
     "output_type": "stream",
     "text": [
      "opoogPg\n",
      "Encounter: o\n",
      "New item encountered\n",
      "Backpack:  ['o']\n",
      "Encounter: p\n",
      "New item encountered\n",
      "Backpack:  ['o', 'p']\n",
      "Encounter: o\n",
      "New item encountered\n",
      "Backpack:  ['o', 'p', 'o']\n",
      "Encounter: o\n",
      "New item encountered\n",
      "Backpack:  ['o', 'p', 'o', 'o']\n",
      "Encounter: g\n",
      "New item encountered\n",
      "Backpack:  ['o', 'p', 'o', 'o', 'g']\n",
      "Encounter: P\n",
      "Bandit encountered!\n",
      "Oli has item!\n",
      "Backpack after giving item:  ['o']\n",
      "Encounter: g\n",
      "New item encountered\n",
      "Backpack:  ['o', 'g']\n",
      "0\n",
      "1\n",
      "1\n"
     ]
    }
   ],
   "source": [
    "input = \".opoog.P.g..\"\n",
    "\n",
    "journey = input.replace(\".\", \"\")  # Remove empty spaces from the journey\n",
    "backpack = []\n",
    "\n",
    "nMoney = 0\n",
    "nGold = 0\n",
    "nJewel = 0\n",
    "\n",
    "print(journey)\n",
    "\n",
    "# Move Oli from left to right journey[index] contains current encounter\n",
    "for encounter in journey:\n",
    "    print(f\"Encounter: {encounter}\")\n",
    "\n",
    "    # If item, add to backpack\n",
    "    if encounter.islower():\n",
    "        print(\"New item encountered\")\n",
    "        backpack.append(encounter)\n",
    "        print(\"Backpack: \", backpack)\n",
    "\n",
    "    # If bandit, search backpack\n",
    "    else:\n",
    "        print(\"Bandit encountered!\")\n",
    "        requestedItem = encounter.lower()\n",
    "\n",
    "        # If backpack contains item, remove items until required one is on top\n",
    "        if requestedItem in backpack:\n",
    "            print(\"Oli has item!\")\n",
    "\n",
    "            # Remove items from the top of the backpack until we get the requested item\n",
    "            while backpack and backpack[-1] != requestedItem:\n",
    "                backpack.pop()\n",
    "            \n",
    "            # Remove the requested item as it is given to the bandit\n",
    "            if backpack:\n",
    "                backpack.pop()\n",
    "            print(\"Backpack after giving item: \", backpack)\n",
    "\n",
    "        # If backpack does not contain item, print \"Neibb\"\n",
    "        else:\n",
    "            print(\"Neibb\")\n",
    "            exit()\n",
    "\n",
    "# If Oli reached the end of input, print the counts of each item\n",
    "nMoney = backpack.count(\"p\")\n",
    "nGold = backpack.count(\"g\")\n",
    "nJewel = backpack.count(\"o\")\n",
    "\n",
    "print(nMoney)\n",
    "print(nGold)\n",
    "print(nJewel)\n"
   ]
  },
  {
   "cell_type": "code",
   "execution_count": 3,
   "metadata": {},
   "outputs": [
    {
     "name": "stdout",
     "output_type": "stream",
     "text": [
      "boki\n"
     ]
    }
   ],
   "source": [
    "#word = input()\n",
    "word = 'ljus'\n",
    "\n",
    "nB = word.count('b')\n",
    "nK = word.count('k')\n",
    "\n",
    "if nB > nK:\n",
    "    print('boba')\n",
    "elif nB < nK:\n",
    "    print('kiki')\n",
    "elif nK == nB and (nB > 0 or nK > 0):\n",
    "    print('boki')\n",
    "else:\n",
    "    print('none')\n"
   ]
  },
  {
   "cell_type": "code",
   "execution_count": 7,
   "metadata": {},
   "outputs": [
    {
     "name": "stdout",
     "output_type": "stream",
     "text": [
      "2\n"
     ]
    }
   ],
   "source": [
    "#data: list[str] = [input(), input()]\n",
    "data: list[str] = ['tommi', 'dodmi']\n",
    "nMismatch: int = 1\n",
    "\n",
    "for char1, char2 in zip(data[0], data[1]):\n",
    "    if char1 is not char2:\n",
    "        nMismatch += 1\n",
    "\n",
    "print(nMismatch)"
   ]
  },
  {
   "cell_type": "code",
   "execution_count": 24,
   "metadata": {},
   "outputs": [
    {
     "name": "stdout",
     "output_type": "stream",
     "text": [
      "['abcd']\n",
      "abcd\n"
     ]
    }
   ],
   "source": [
    "# nNames: int = int(input())\n",
    "# data: list[str] = []\n",
    "\n",
    "# for i in range(nNames):\n",
    "#     name = input()\n",
    "#     data.append(name)\n",
    "\n",
    "# del name\n",
    "\n",
    "data = ['abc', 'abcd', 'zzabc']\n",
    "\n",
    "# Check word criteria\n",
    "# Criteria: no repeated letters, more than 5 letters\n",
    "for id, name in enumerate(data):\n",
    "    # Delete name if length is less than 6\n",
    "    if len(name) <= 5:\n",
    "        del data[id]\n",
    "        continue\n",
    "    \n",
    "    # Delete name if letters are used multiple times\n",
    "    # I.e.: if world length is not equal to set(word) length (= uniqueLetters)\n",
    "    unique_letters: set[str] = set(name) # Sets automatically remove duplicate letters \n",
    "    if len(name) is not len(unique_letters):\n",
    "        del data[id]\n",
    "        continue\n",
    "del name\n",
    "\n",
    "# Store the shortest name(s)\n",
    "# If multiple of same length are in the list, only the first is stored\n",
    "first_shortest_name = min(data, key = len, default = None)\n",
    "\n",
    "\n",
    "if first_shortest_name == None:\n",
    "    print('Neibb')\n",
    "\n",
    "# After shortest_length is found, it's checked if there're other names with equal length and store\n",
    "shortest_length = len(first_shortest_name)\n",
    "collection_shortest_names = [name for name in data if len(name) == shortest_length]\n",
    "\n",
    "if len(collection_shortest_names) > 1:\n",
    "    # When names are of equal length, find smallest name in lexicographical order\n",
    "    # min('key = len') is not used, therefore: return = string of smallest lexicographical order\n",
    "    best_name = min(collection_shortest_names)\n",
    "else: \n",
    "    best_name = collection_shortest_names[0]\n",
    "\n",
    "print(best_name)\n"
   ]
  },
  {
   "cell_type": "code",
   "execution_count": 19,
   "metadata": {},
   "outputs": [
    {
     "name": "stdout",
     "output_type": "stream",
     "text": [
      "2\n"
     ]
    }
   ],
   "source": [
    "strings = [\"apple\", \"paple\"]\n",
    "shortest_string = min(strings, key=len)\n",
    "set_strings = set(strings)\n",
    "print(len(strings))"
   ]
  }
 ],
 "metadata": {
  "interpreter": {
   "hash": "30e84d5cb77685a33e2438ef1aa73f9def208ee288f00fcacb51dc1aa7d212e4"
  },
  "kernelspec": {
   "display_name": "Python 3.10.11 64-bit (windows store)",
   "language": "python",
   "name": "python3"
  },
  "language_info": {
   "codemirror_mode": {
    "name": "ipython",
    "version": 3
   },
   "file_extension": ".py",
   "mimetype": "text/x-python",
   "name": "python",
   "nbconvert_exporter": "python",
   "pygments_lexer": "ipython3",
   "version": "3.10.11"
  },
  "orig_nbformat": 4,
  "vscode": {
   "interpreter": {
    "hash": "aee8b7b246df8f9039afb4144a1f6fd8d2ca17a180786b69acc140d282b71a49"
   }
  }
 },
 "nbformat": 4,
 "nbformat_minor": 2
}
